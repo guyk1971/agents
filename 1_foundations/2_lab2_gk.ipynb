{
 "cells": [
  {
   "cell_type": "markdown",
   "metadata": {},
   "source": [
    "## Welcome to the Second Lab - Week 1, Day 3\n",
    "\n",
    "Today we will work with lots of models! This is a way to get comfortable with APIs."
   ]
  },
  {
   "cell_type": "markdown",
   "metadata": {},
   "source": [
    "<table style=\"margin: 0; text-align: left; width:100%\">\n",
    "    <tr>\n",
    "        <td style=\"width: 150px; height: 150px; vertical-align: middle;\">\n",
    "            <img src=\"../assets/stop.png\" width=\"150\" height=\"150\" style=\"display: block;\" />\n",
    "        </td>\n",
    "        <td>\n",
    "            <h2 style=\"color:#ff7800;\">Important point - please read</h2>\n",
    "            <span style=\"color:#ff7800;\">The way I collaborate with you may be different to other courses you've taken. I prefer not to type code while you watch. Rather, I execute Jupyter Labs, like this, and give you an intuition for what's going on. My suggestion is that you carefully execute this yourself, <b>after</b> watching the lecture. Add print statements to understand what's going on, and then come up with your own variations.<br/><br/>If you have time, I'd love it if you submit a PR for changes in the community_contributions folder - instructions in the resources. Also, if you have a Github account, use this to showcase your variations. Not only is this essential practice, but it demonstrates your skills to others, including perhaps future clients or employers...\n",
    "            </span>\n",
    "        </td>\n",
    "    </tr>\n",
    "</table>"
   ]
  },
  {
   "cell_type": "code",
   "execution_count": 1,
   "metadata": {},
   "outputs": [],
   "source": [
    "# Start with imports - ask ChatGPT to explain any package that you don't know\n",
    "\n",
    "import os\n",
    "import json\n",
    "from dotenv import load_dotenv\n",
    "from openai import OpenAI\n",
    "from anthropic import Anthropic\n",
    "from IPython.display import Markdown, display"
   ]
  },
  {
   "cell_type": "code",
   "execution_count": 2,
   "metadata": {},
   "outputs": [
    {
     "data": {
      "text/plain": [
       "True"
      ]
     },
     "execution_count": 2,
     "metadata": {},
     "output_type": "execute_result"
    }
   ],
   "source": [
    "# Always remember to do this!\n",
    "load_dotenv(override=True)"
   ]
  },
  {
   "cell_type": "code",
   "execution_count": 3,
   "metadata": {},
   "outputs": [
    {
     "name": "stdout",
     "output_type": "stream",
     "text": [
      "OpenAI API Key exists and begins sk-proj-\n",
      "Anthropic API Key not set (and this is optional)\n",
      "Google API Key not set (and this is optional)\n",
      "DeepSeek API Key not set (and this is optional)\n",
      "Groq API Key not set (and this is optional)\n"
     ]
    }
   ],
   "source": [
    "# Print the key prefixes to help with any debugging\n",
    "\n",
    "openai_api_key = os.getenv('OPENAI_API_KEY')\n",
    "anthropic_api_key = os.getenv('ANTHROPIC_API_KEY')\n",
    "google_api_key = os.getenv('GOOGLE_API_KEY')\n",
    "deepseek_api_key = os.getenv('DEEPSEEK_API_KEY')\n",
    "groq_api_key = os.getenv('GROQ_API_KEY')\n",
    "\n",
    "if openai_api_key:\n",
    "    print(f\"OpenAI API Key exists and begins {openai_api_key[:8]}\")\n",
    "else:\n",
    "    print(\"OpenAI API Key not set\")\n",
    "    \n",
    "if anthropic_api_key:\n",
    "    print(f\"Anthropic API Key exists and begins {anthropic_api_key[:7]}\")\n",
    "else:\n",
    "    print(\"Anthropic API Key not set (and this is optional)\")\n",
    "\n",
    "if google_api_key:\n",
    "    print(f\"Google API Key exists and begins {google_api_key[:2]}\")\n",
    "else:\n",
    "    print(\"Google API Key not set (and this is optional)\")\n",
    "\n",
    "if deepseek_api_key:\n",
    "    print(f\"DeepSeek API Key exists and begins {deepseek_api_key[:3]}\")\n",
    "else:\n",
    "    print(\"DeepSeek API Key not set (and this is optional)\")\n",
    "\n",
    "if groq_api_key:\n",
    "    print(f\"Groq API Key exists and begins {groq_api_key[:4]}\")\n",
    "else:\n",
    "    print(\"Groq API Key not set (and this is optional)\")"
   ]
  },
  {
   "cell_type": "code",
   "execution_count": 4,
   "metadata": {},
   "outputs": [],
   "source": [
    "request = \"Please come up with a challenging, nuanced question that I can ask a number of LLMs to evaluate their intelligence. \"\n",
    "request += \"Answer only with the question, no explanation.\"\n",
    "messages = [{\"role\": \"user\", \"content\": request}]"
   ]
  },
  {
   "cell_type": "code",
   "execution_count": 5,
   "metadata": {},
   "outputs": [
    {
     "data": {
      "text/plain": [
       "[{'role': 'user',\n",
       "  'content': 'Please come up with a challenging, nuanced question that I can ask a number of LLMs to evaluate their intelligence. Answer only with the question, no explanation.'}]"
      ]
     },
     "execution_count": 5,
     "metadata": {},
     "output_type": "execute_result"
    }
   ],
   "source": [
    "messages"
   ]
  },
  {
   "cell_type": "code",
   "execution_count": 7,
   "metadata": {},
   "outputs": [
    {
     "name": "stdout",
     "output_type": "stream",
     "text": [
      "Design and answer a self-contained problem that requires cross-domain reasoning (math, logic, and real-world knowledge) under partial information, and that also includes an evaluation of the reliability of the answer. Do not reveal your internal chain-of-thought. In your response, provide: (1) the final answer, (2) a concise justification (3–5 sentences, no step-by-step reasoning), (3) a critical appraisal of the key assumptions and data limitations, (4) a comparison of at least two alternative solution approaches with their trade-offs, and (5) a self-rated confidence score from 0 to 1 with a one-sentence rationale for that score.\n"
     ]
    }
   ],
   "source": [
    "openai = OpenAI()\n",
    "model_id=\"gpt-5-nano\"\n",
    "response = openai.chat.completions.create(\n",
    "    model=model_id,\n",
    "    messages=messages,\n",
    ")\n",
    "question = response.choices[0].message.content\n",
    "print(question)\n"
   ]
  },
  {
   "cell_type": "code",
   "execution_count": 8,
   "metadata": {},
   "outputs": [],
   "source": [
    "competitors = []\n",
    "answers = []\n",
    "messages = [{\"role\": \"user\", \"content\": question}]"
   ]
  },
  {
   "cell_type": "code",
   "execution_count": 9,
   "metadata": {},
   "outputs": [
    {
     "data": {
      "text/markdown": [
       "Problem (self-contained):\n",
       "A small manufacturer must choose between two suppliers for a critical component needed within 7 days. Each supplier has a per-unit price and a probabilistic delivery time (lead time). You know only the following partial information:\n",
       "- Supplier A: price = $100; lead time L_A is approximately Normal with mean μ_A = 5 days and standard deviation σ_A = 1 day (lead times are nonnegative in reality; the normal distribution is a rough approximation). If the part arrives after day 7, a lateness penalty of $60 per day is charged.\n",
       "- Supplier B: price = $90; lead time L_B is approximately Normal with mean μ_B = 8 days and standard deviation σ_B = 2 days (also approximated as nonnegative). The same lateness penalty applies.\n",
       "Assume the lateness penalty is the only penalty cost beyond the upfront price, and that there are no other holding or urgent-supply costs.\n",
       "\n",
       "Question: Which supplier minimizes the expected total cost under this model? Provide the final answer and accompany it with the requested analyses below.\n",
       "\n",
       "(1) Final answer\n",
       "Choose Supplier A. Under the Normal-approximation lead-time model (with L_A ~ N(5,1^2) and L_B ~ N(8,2^2), truncated to be nonnegative for realism), the expected total costs are:\n",
       "- Supplier A: upfront $100 plus expected lateness cost ≈ $0.50, for a total ≈ $100.50.\n",
       "- Supplier B: upfront $90 plus expected lateness cost ≈ $83.74, for a total ≈ $173.74.\n",
       "Thus Supplier A has the lower expected total cost by a wide margin.\n",
       "\n",
       "(2) Concise justification (3–5 sentences)\n",
       "Using the given means and sds, compute the expected lateness beyond day 7 as E[(L − 7)+] for each supplier under the normal model: for A (μ=5, σ=1) this is about 0.0084 days, giving an expected lateness penalty ≈ $0.50; for B (μ=8, σ=2) this is about 1.396 days, giving a penalty ≈ $83.74. Adding the upfront prices yields total expected costs of about $100.50 for A and $173.74 for B. The sizable difference in expected lateness penalties dominates the $10 upfront price difference, making A the better choice under this model.\n",
       "\n",
       "(3) Critical appraisal of key assumptions and data limitations\n",
       "- The core calculation relies on treating lead times as Normal distributions with the given means and std devs, which is a rough approximation because real-world lead times are nonnegative and can be skewed.\n",
       "- We implicitly ignore any potential correlation between lead time and other costs, and we assume the lateness penalty is linear in days late with a fixed rate.\n",
       "- We assume no inventory, safety stock, or expedite options; in practice, suppliers may offer rush options or batching effects.\n",
       "- The model uses a single fixed deadline (7 days) and does not account for variability in demand or production schedules downstream.\n",
       "- Truncation to nonnegative lead times is small here but should be acknowledged; a more realistic model might use a nonnegative distribution (e.g., lognormal) which could slightly alter the numbers.\n",
       "\n",
       "(4) Comparison of at least two alternative solution approaches with their trade-offs\n",
       "- Approach 1: Parametric normal lead-time model (the approach used above)\n",
       "  - Pros: Simple to compute; yields closed-form expressions for E[(L−7)+] with standard normal functions; transparent assumptions.\n",
       "  - Cons: Relies on the (potentially imperfect) Normal assumption and may misestimate tails, especially for longer delays; ignores nonnegativity explicitly (though truncation makes this minor here).\n",
       "- Approach 2: Scenario-based Monte Carlo simulation (nonparametric or mixed distributions)\n",
       "  - Pros: Flexible; can incorporate skew, truncation, and alternative distributions (e.g., lognormal, empirical data); allows computing a distribution of total costs and confidence intervals.\n",
       "  - Cons: Requires choosing and calibrating multiple plausible distributions; more computational effort; results depend on the chosen scenarios and their weights.\n",
       "- Approach 3 (optional): Distribution-free bounds using only mean and variance (robust bound)\n",
       "  - Pros: Does not rely on distributional shape; provides worst-case guarantees given μ and σ.\n",
       "  - Cons: Typically yields very loose bounds for E[(L−7)+], may be too pessimistic to be actionable; not as informative for decision between two suppliers.\n",
       "\n",
       "(5) Self-rated confidence score and rationale\n",
       "Confidence: 0.65\n",
       "Rationale: The conclusion follows from a transparent calculation under a plausible parametric model, but the choice of Normal lead-time distributions is a simplification. Real-world lead times can be skewed and nonnegative, and penalties or delivery options in practice may deviate from the assumed linear, daily lateness cost. The result is informative and reasonable under the stated model, but it should be revisited if more detailed lead-time data or alternative cost structures become available."
      ],
      "text/plain": [
       "<IPython.core.display.Markdown object>"
      ]
     },
     "metadata": {},
     "output_type": "display_data"
    }
   ],
   "source": [
    "# The API we know well\n",
    "\n",
    "# model_name = \"gpt-4o-mini\"\n",
    "model_name = \"gpt-5-nano\"\n",
    "\n",
    "response = openai.chat.completions.create(model=model_name, messages=messages)\n",
    "answer = response.choices[0].message.content\n",
    "\n",
    "display(Markdown(answer))\n",
    "competitors.append(model_name)\n",
    "answers.append(answer)"
   ]
  },
  {
   "cell_type": "code",
   "execution_count": null,
   "metadata": {},
   "outputs": [],
   "source": [
    "# Anthropic has a slightly different API, and Max Tokens is required\n",
    "\n",
    "model_name = \"claude-3-7-sonnet-latest\"\n",
    "\n",
    "claude = Anthropic()\n",
    "response = claude.messages.create(model=model_name, messages=messages, max_tokens=1000)\n",
    "answer = response.content[0].text\n",
    "\n",
    "display(Markdown(answer))\n",
    "competitors.append(model_name)\n",
    "answers.append(answer)"
   ]
  },
  {
   "cell_type": "code",
   "execution_count": null,
   "metadata": {},
   "outputs": [],
   "source": [
    "gemini = OpenAI(api_key=google_api_key, base_url=\"https://generativelanguage.googleapis.com/v1beta/openai/\")\n",
    "model_name = \"gemini-2.0-flash\"\n",
    "\n",
    "response = gemini.chat.completions.create(model=model_name, messages=messages)\n",
    "answer = response.choices[0].message.content\n",
    "\n",
    "display(Markdown(answer))\n",
    "competitors.append(model_name)\n",
    "answers.append(answer)"
   ]
  },
  {
   "cell_type": "code",
   "execution_count": null,
   "metadata": {},
   "outputs": [],
   "source": [
    "deepseek = OpenAI(api_key=deepseek_api_key, base_url=\"https://api.deepseek.com/v1\")\n",
    "model_name = \"deepseek-chat\"\n",
    "\n",
    "response = deepseek.chat.completions.create(model=model_name, messages=messages)\n",
    "answer = response.choices[0].message.content\n",
    "\n",
    "display(Markdown(answer))\n",
    "competitors.append(model_name)\n",
    "answers.append(answer)"
   ]
  },
  {
   "cell_type": "code",
   "execution_count": null,
   "metadata": {},
   "outputs": [],
   "source": [
    "groq = OpenAI(api_key=groq_api_key, base_url=\"https://api.groq.com/openai/v1\")\n",
    "model_name = \"llama-3.3-70b-versatile\"\n",
    "\n",
    "response = groq.chat.completions.create(model=model_name, messages=messages)\n",
    "answer = response.choices[0].message.content\n",
    "\n",
    "display(Markdown(answer))\n",
    "competitors.append(model_name)\n",
    "answers.append(answer)\n"
   ]
  },
  {
   "cell_type": "markdown",
   "metadata": {},
   "source": [
    "## For the next cell, we will use Ollama\n",
    "\n",
    "Ollama runs a local web service that gives an OpenAI compatible endpoint,  \n",
    "and runs models locally using high performance C++ code.\n",
    "\n",
    "If you don't have Ollama, install it here by visiting https://ollama.com then pressing Download and following the instructions.\n",
    "\n",
    "After it's installed, you should be able to visit here: http://localhost:11434 and see the message \"Ollama is running\"\n",
    "\n",
    "You might need to restart Cursor (and maybe reboot). Then open a Terminal (control+\\`) and run `ollama serve`\n",
    "\n",
    "Useful Ollama commands (run these in the terminal, or with an exclamation mark in this notebook):\n",
    "\n",
    "`ollama pull <model_name>` downloads a model locally  \n",
    "`ollama ls` lists all the models you've downloaded  \n",
    "`ollama rm <model_name>` deletes the specified model from your downloads"
   ]
  },
  {
   "cell_type": "markdown",
   "metadata": {},
   "source": [
    "<table style=\"margin: 0; text-align: left; width:100%\">\n",
    "    <tr>\n",
    "        <td style=\"width: 150px; height: 150px; vertical-align: middle;\">\n",
    "            <img src=\"../assets/stop.png\" width=\"150\" height=\"150\" style=\"display: block;\" />\n",
    "        </td>\n",
    "        <td>\n",
    "            <h2 style=\"color:#ff7800;\">Super important - ignore me at your peril!</h2>\n",
    "            <span style=\"color:#ff7800;\">The model called <b>llama3.3</b> is FAR too large for home computers - it's not intended for personal computing and will consume all your resources! Stick with the nicely sized <b>llama3.2</b> or <b>llama3.2:1b</b> and if you want larger, try llama3.1 or smaller variants of Qwen, Gemma, Phi or DeepSeek. See the <A href=\"https://ollama.com/models\">the Ollama models page</a> for a full list of models and sizes.\n",
    "            </span>\n",
    "        </td>\n",
    "    </tr>\n",
    "</table>"
   ]
  },
  {
   "cell_type": "code",
   "execution_count": null,
   "metadata": {},
   "outputs": [],
   "source": [
    "!ollama pull llama3.2"
   ]
  },
  {
   "cell_type": "code",
   "execution_count": 10,
   "metadata": {},
   "outputs": [
    {
     "data": {
      "text/markdown": [
       "**Problem (self‑contained)**  \n",
       "A delivery van is scheduled to travel from City X to City Z, passing through City Y.  \n",
       "* The van’s fuel tank can hold 200 L of diesel.  \n",
       "* While the vehicle is fully loaded (first 200 km of the trip) it consumes diesel at a rate of 0.10 L km⁻¹.  \n",
       "* After the first 200 km the load is halved (fuel consumption drops to 0.08 L km⁻¹ for the remainder of the journey).  \n",
       "* The distance from X to Y is exactly 500 km.  \n",
       "* The distance from Y to Z is unknown but is estimated to lie between 700 km and 900 km.  \n",
       "* The driver wants to arrive at City Z without refueling.  \n",
       "\n",
       "**Question**  \n",
       "What is the *maximum* possible distance from City Y to City Z that allows the van to reach Z without refueling, given the above partial information and assumptions?\n",
       "\n",
       "---\n",
       "\n",
       "### 1. Final answer  \n",
       "The van can reach City Z without refueling if the distance Y–Z is **up to 1 950 km**.\n",
       "\n",
       "### 2. Concise justification  \n",
       "Fuel used to reach Y is \\(200\\times0.10 + 300\\times0.08 = 44\\) L, leaving 156 L. With the lower consumption rate of 0.08 L km⁻¹, the remaining fuel allows an additional 1950 km, so Y–Z must be ≤1950 km.  \n",
       "\n",
       "### 3. Critical appraisal of assumptions and data limitations  \n",
       "- Assumes no variation in speed or driving conditions (e.g., traffic, terrain) that would affect fuel economy.  \n",
       "- Treats the load reduction as instantaneous at exactly 200 km, ignoring any gradual change or effect of residual load.  \n",
       "- Uses typical diesel consumption rates; real vans may differ, so the exact figure is approximate.  \n",
       "- The distance Y–Z estimate (700–900 km) is irrelevant once the calculation shows it must be ≤1950 km, so the partial information on Y–Z was unnecessary but kept for realism.  \n",
       "\n",
       "### 4. Comparison of alternative solution approaches  \n",
       "| Approach | Method | Trade‑offs |\n",
       "|----------|--------|------------|\n",
       "| **Piecewise fuel‑budget method (above)** | Direct calculation of fuel consumption in two segments; straightforward arithmetic. | Low computational complexity, no need for unknown variable \\(d_1\\). Accuracy depends on the chosen break‑point distance. |\n",
       "| **Optimization with variable break‑point** | Treat the 200 km break‑point as a variable \\(d_1\\) (unknown), set up inequality \\(0.10d_1 + 0.08(500‑d_1) \\leq 200\\). Solve for \\(d_1\\) then compute remaining distance. | More robust if the load change isn’t exactly at 200 km; requires solving a simple inequality but slightly more algebraic overhead. Provides a range of feasible \\(d_1\\) values, offering insight into sensitivity. |\n",
       "\n",
       "### 5. Confidence score  \n",
       "**0.93** – the calculation hinges on standard diesel consumption figures that are widely used for vans, and the algebraic steps are trivial; only the real‑world variability in fuel economy introduces minor uncertainty."
      ],
      "text/plain": [
       "<IPython.core.display.Markdown object>"
      ]
     },
     "metadata": {},
     "output_type": "display_data"
    }
   ],
   "source": [
    "ollama = OpenAI(base_url='http://localhost:11434/v1', api_key='ollama')\n",
    "# model_name = \"llama3.2\"\n",
    "model_name = \"gpt-oss:20b\"\n",
    "response = ollama.chat.completions.create(model=model_name, messages=messages)\n",
    "answer = response.choices[0].message.content\n",
    "\n",
    "display(Markdown(answer))\n",
    "competitors.append(model_name)\n",
    "answers.append(answer)"
   ]
  },
  {
   "cell_type": "code",
   "execution_count": 11,
   "metadata": {},
   "outputs": [
    {
     "name": "stdout",
     "output_type": "stream",
     "text": [
      "['gpt-5-nano', 'gpt-oss:20b']\n",
      "['Problem (self-contained):\\nA small manufacturer must choose between two suppliers for a critical component needed within 7 days. Each supplier has a per-unit price and a probabilistic delivery time (lead time). You know only the following partial information:\\n- Supplier A: price = $100; lead time L_A is approximately Normal with mean μ_A = 5 days and standard deviation σ_A = 1 day (lead times are nonnegative in reality; the normal distribution is a rough approximation). If the part arrives after day 7, a lateness penalty of $60 per day is charged.\\n- Supplier B: price = $90; lead time L_B is approximately Normal with mean μ_B = 8 days and standard deviation σ_B = 2 days (also approximated as nonnegative). The same lateness penalty applies.\\nAssume the lateness penalty is the only penalty cost beyond the upfront price, and that there are no other holding or urgent-supply costs.\\n\\nQuestion: Which supplier minimizes the expected total cost under this model? Provide the final answer and accompany it with the requested analyses below.\\n\\n(1) Final answer\\nChoose Supplier A. Under the Normal-approximation lead-time model (with L_A ~ N(5,1^2) and L_B ~ N(8,2^2), truncated to be nonnegative for realism), the expected total costs are:\\n- Supplier A: upfront $100 plus expected lateness cost ≈ $0.50, for a total ≈ $100.50.\\n- Supplier B: upfront $90 plus expected lateness cost ≈ $83.74, for a total ≈ $173.74.\\nThus Supplier A has the lower expected total cost by a wide margin.\\n\\n(2) Concise justification (3–5 sentences)\\nUsing the given means and sds, compute the expected lateness beyond day 7 as E[(L − 7)+] for each supplier under the normal model: for A (μ=5, σ=1) this is about 0.0084 days, giving an expected lateness penalty ≈ $0.50; for B (μ=8, σ=2) this is about 1.396 days, giving a penalty ≈ $83.74. Adding the upfront prices yields total expected costs of about $100.50 for A and $173.74 for B. The sizable difference in expected lateness penalties dominates the $10 upfront price difference, making A the better choice under this model.\\n\\n(3) Critical appraisal of key assumptions and data limitations\\n- The core calculation relies on treating lead times as Normal distributions with the given means and std devs, which is a rough approximation because real-world lead times are nonnegative and can be skewed.\\n- We implicitly ignore any potential correlation between lead time and other costs, and we assume the lateness penalty is linear in days late with a fixed rate.\\n- We assume no inventory, safety stock, or expedite options; in practice, suppliers may offer rush options or batching effects.\\n- The model uses a single fixed deadline (7 days) and does not account for variability in demand or production schedules downstream.\\n- Truncation to nonnegative lead times is small here but should be acknowledged; a more realistic model might use a nonnegative distribution (e.g., lognormal) which could slightly alter the numbers.\\n\\n(4) Comparison of at least two alternative solution approaches with their trade-offs\\n- Approach 1: Parametric normal lead-time model (the approach used above)\\n  - Pros: Simple to compute; yields closed-form expressions for E[(L−7)+] with standard normal functions; transparent assumptions.\\n  - Cons: Relies on the (potentially imperfect) Normal assumption and may misestimate tails, especially for longer delays; ignores nonnegativity explicitly (though truncation makes this minor here).\\n- Approach 2: Scenario-based Monte Carlo simulation (nonparametric or mixed distributions)\\n  - Pros: Flexible; can incorporate skew, truncation, and alternative distributions (e.g., lognormal, empirical data); allows computing a distribution of total costs and confidence intervals.\\n  - Cons: Requires choosing and calibrating multiple plausible distributions; more computational effort; results depend on the chosen scenarios and their weights.\\n- Approach 3 (optional): Distribution-free bounds using only mean and variance (robust bound)\\n  - Pros: Does not rely on distributional shape; provides worst-case guarantees given μ and σ.\\n  - Cons: Typically yields very loose bounds for E[(L−7)+], may be too pessimistic to be actionable; not as informative for decision between two suppliers.\\n\\n(5) Self-rated confidence score and rationale\\nConfidence: 0.65\\nRationale: The conclusion follows from a transparent calculation under a plausible parametric model, but the choice of Normal lead-time distributions is a simplification. Real-world lead times can be skewed and nonnegative, and penalties or delivery options in practice may deviate from the assumed linear, daily lateness cost. The result is informative and reasonable under the stated model, but it should be revisited if more detailed lead-time data or alternative cost structures become available.', '**Problem (self‑contained)**  \\nA delivery van is scheduled to travel from City\\u202fX to City\\u202fZ, passing through City\\u202fY.  \\n* The van’s fuel tank can hold 200\\u202fL of diesel.  \\n* While the vehicle is fully loaded (first 200\\u202fkm of the trip) it consumes diesel at a rate of 0.10\\u202fL\\u202fkm⁻¹.  \\n* After the first 200\\u202fkm the load is halved (fuel consumption drops to 0.08\\u202fL\\u202fkm⁻¹ for the remainder of the journey).  \\n* The distance from X to Y is exactly 500\\u202fkm.  \\n* The distance from Y to Z is unknown but is estimated to lie between 700\\u202fkm and 900\\u202fkm.  \\n* The driver wants to arrive at City\\u202fZ without refueling.  \\n\\n**Question**  \\nWhat is the *maximum* possible distance from City\\u202fY to City\\u202fZ that allows the van to reach Z without refueling, given the above partial information and assumptions?\\n\\n---\\n\\n### 1. Final answer  \\nThe van can reach City\\u202fZ without refueling if the distance Y–Z is **up to 1\\u202f950\\u202fkm**.\\n\\n### 2. Concise justification  \\nFuel used to reach Y is \\\\(200\\\\times0.10 + 300\\\\times0.08 = 44\\\\)\\u202fL, leaving 156\\u202fL. With the lower consumption rate of 0.08\\u202fL\\u202fkm⁻¹, the remaining fuel allows an additional 1950\\u202fkm, so Y–Z must be ≤1950\\u202fkm.  \\n\\n### 3. Critical appraisal of assumptions and data limitations  \\n- Assumes no variation in speed or driving conditions (e.g., traffic, terrain) that would affect fuel economy.  \\n- Treats the load reduction as instantaneous at exactly 200\\u202fkm, ignoring any gradual change or effect of residual load.  \\n- Uses typical diesel consumption rates; real vans may differ, so the exact figure is approximate.  \\n- The distance Y–Z estimate (700–900\\u202fkm) is irrelevant once the calculation shows it must be ≤1950\\u202fkm, so the partial information on Y–Z was unnecessary but kept for realism.  \\n\\n### 4. Comparison of alternative solution approaches  \\n| Approach | Method | Trade‑offs |\\n|----------|--------|------------|\\n| **Piecewise fuel‑budget method (above)** | Direct calculation of fuel consumption in two segments; straightforward arithmetic. | Low computational complexity, no need for unknown variable \\\\(d_1\\\\). Accuracy depends on the chosen break‑point distance. |\\n| **Optimization with variable break‑point** | Treat the 200\\u202fkm break‑point as a variable \\\\(d_1\\\\) (unknown), set up inequality \\\\(0.10d_1 + 0.08(500‑d_1) \\\\leq 200\\\\). Solve for \\\\(d_1\\\\) then compute remaining distance. | More robust if the load change isn’t exactly at 200\\u202fkm; requires solving a simple inequality but slightly more algebraic overhead. Provides a range of feasible \\\\(d_1\\\\) values, offering insight into sensitivity. |\\n\\n### 5. Confidence score  \\n**0.93** – the calculation hinges on standard diesel consumption figures that are widely used for vans, and the algebraic steps are trivial; only the real‑world variability in fuel economy introduces minor uncertainty.']\n"
     ]
    }
   ],
   "source": [
    "# So where are we?\n",
    "\n",
    "print(competitors)\n",
    "print(answers)\n"
   ]
  },
  {
   "cell_type": "code",
   "execution_count": 12,
   "metadata": {},
   "outputs": [
    {
     "name": "stdout",
     "output_type": "stream",
     "text": [
      "Competitor: gpt-5-nano\n",
      "\n",
      "Problem (self-contained):\n",
      "A small manufacturer must choose between two suppliers for a critical component needed within 7 days. Each supplier has a per-unit price and a probabilistic delivery time (lead time). You know only the following partial information:\n",
      "- Supplier A: price = $100; lead time L_A is approximately Normal with mean μ_A = 5 days and standard deviation σ_A = 1 day (lead times are nonnegative in reality; the normal distribution is a rough approximation). If the part arrives after day 7, a lateness penalty of $60 per day is charged.\n",
      "- Supplier B: price = $90; lead time L_B is approximately Normal with mean μ_B = 8 days and standard deviation σ_B = 2 days (also approximated as nonnegative). The same lateness penalty applies.\n",
      "Assume the lateness penalty is the only penalty cost beyond the upfront price, and that there are no other holding or urgent-supply costs.\n",
      "\n",
      "Question: Which supplier minimizes the expected total cost under this model? Provide the final answer and accompany it with the requested analyses below.\n",
      "\n",
      "(1) Final answer\n",
      "Choose Supplier A. Under the Normal-approximation lead-time model (with L_A ~ N(5,1^2) and L_B ~ N(8,2^2), truncated to be nonnegative for realism), the expected total costs are:\n",
      "- Supplier A: upfront $100 plus expected lateness cost ≈ $0.50, for a total ≈ $100.50.\n",
      "- Supplier B: upfront $90 plus expected lateness cost ≈ $83.74, for a total ≈ $173.74.\n",
      "Thus Supplier A has the lower expected total cost by a wide margin.\n",
      "\n",
      "(2) Concise justification (3–5 sentences)\n",
      "Using the given means and sds, compute the expected lateness beyond day 7 as E[(L − 7)+] for each supplier under the normal model: for A (μ=5, σ=1) this is about 0.0084 days, giving an expected lateness penalty ≈ $0.50; for B (μ=8, σ=2) this is about 1.396 days, giving a penalty ≈ $83.74. Adding the upfront prices yields total expected costs of about $100.50 for A and $173.74 for B. The sizable difference in expected lateness penalties dominates the $10 upfront price difference, making A the better choice under this model.\n",
      "\n",
      "(3) Critical appraisal of key assumptions and data limitations\n",
      "- The core calculation relies on treating lead times as Normal distributions with the given means and std devs, which is a rough approximation because real-world lead times are nonnegative and can be skewed.\n",
      "- We implicitly ignore any potential correlation between lead time and other costs, and we assume the lateness penalty is linear in days late with a fixed rate.\n",
      "- We assume no inventory, safety stock, or expedite options; in practice, suppliers may offer rush options or batching effects.\n",
      "- The model uses a single fixed deadline (7 days) and does not account for variability in demand or production schedules downstream.\n",
      "- Truncation to nonnegative lead times is small here but should be acknowledged; a more realistic model might use a nonnegative distribution (e.g., lognormal) which could slightly alter the numbers.\n",
      "\n",
      "(4) Comparison of at least two alternative solution approaches with their trade-offs\n",
      "- Approach 1: Parametric normal lead-time model (the approach used above)\n",
      "  - Pros: Simple to compute; yields closed-form expressions for E[(L−7)+] with standard normal functions; transparent assumptions.\n",
      "  - Cons: Relies on the (potentially imperfect) Normal assumption and may misestimate tails, especially for longer delays; ignores nonnegativity explicitly (though truncation makes this minor here).\n",
      "- Approach 2: Scenario-based Monte Carlo simulation (nonparametric or mixed distributions)\n",
      "  - Pros: Flexible; can incorporate skew, truncation, and alternative distributions (e.g., lognormal, empirical data); allows computing a distribution of total costs and confidence intervals.\n",
      "  - Cons: Requires choosing and calibrating multiple plausible distributions; more computational effort; results depend on the chosen scenarios and their weights.\n",
      "- Approach 3 (optional): Distribution-free bounds using only mean and variance (robust bound)\n",
      "  - Pros: Does not rely on distributional shape; provides worst-case guarantees given μ and σ.\n",
      "  - Cons: Typically yields very loose bounds for E[(L−7)+], may be too pessimistic to be actionable; not as informative for decision between two suppliers.\n",
      "\n",
      "(5) Self-rated confidence score and rationale\n",
      "Confidence: 0.65\n",
      "Rationale: The conclusion follows from a transparent calculation under a plausible parametric model, but the choice of Normal lead-time distributions is a simplification. Real-world lead times can be skewed and nonnegative, and penalties or delivery options in practice may deviate from the assumed linear, daily lateness cost. The result is informative and reasonable under the stated model, but it should be revisited if more detailed lead-time data or alternative cost structures become available.\n",
      "Competitor: gpt-oss:20b\n",
      "\n",
      "**Problem (self‑contained)**  \n",
      "A delivery van is scheduled to travel from City X to City Z, passing through City Y.  \n",
      "* The van’s fuel tank can hold 200 L of diesel.  \n",
      "* While the vehicle is fully loaded (first 200 km of the trip) it consumes diesel at a rate of 0.10 L km⁻¹.  \n",
      "* After the first 200 km the load is halved (fuel consumption drops to 0.08 L km⁻¹ for the remainder of the journey).  \n",
      "* The distance from X to Y is exactly 500 km.  \n",
      "* The distance from Y to Z is unknown but is estimated to lie between 700 km and 900 km.  \n",
      "* The driver wants to arrive at City Z without refueling.  \n",
      "\n",
      "**Question**  \n",
      "What is the *maximum* possible distance from City Y to City Z that allows the van to reach Z without refueling, given the above partial information and assumptions?\n",
      "\n",
      "---\n",
      "\n",
      "### 1. Final answer  \n",
      "The van can reach City Z without refueling if the distance Y–Z is **up to 1 950 km**.\n",
      "\n",
      "### 2. Concise justification  \n",
      "Fuel used to reach Y is \\(200\\times0.10 + 300\\times0.08 = 44\\) L, leaving 156 L. With the lower consumption rate of 0.08 L km⁻¹, the remaining fuel allows an additional 1950 km, so Y–Z must be ≤1950 km.  \n",
      "\n",
      "### 3. Critical appraisal of assumptions and data limitations  \n",
      "- Assumes no variation in speed or driving conditions (e.g., traffic, terrain) that would affect fuel economy.  \n",
      "- Treats the load reduction as instantaneous at exactly 200 km, ignoring any gradual change or effect of residual load.  \n",
      "- Uses typical diesel consumption rates; real vans may differ, so the exact figure is approximate.  \n",
      "- The distance Y–Z estimate (700–900 km) is irrelevant once the calculation shows it must be ≤1950 km, so the partial information on Y–Z was unnecessary but kept for realism.  \n",
      "\n",
      "### 4. Comparison of alternative solution approaches  \n",
      "| Approach | Method | Trade‑offs |\n",
      "|----------|--------|------------|\n",
      "| **Piecewise fuel‑budget method (above)** | Direct calculation of fuel consumption in two segments; straightforward arithmetic. | Low computational complexity, no need for unknown variable \\(d_1\\). Accuracy depends on the chosen break‑point distance. |\n",
      "| **Optimization with variable break‑point** | Treat the 200 km break‑point as a variable \\(d_1\\) (unknown), set up inequality \\(0.10d_1 + 0.08(500‑d_1) \\leq 200\\). Solve for \\(d_1\\) then compute remaining distance. | More robust if the load change isn’t exactly at 200 km; requires solving a simple inequality but slightly more algebraic overhead. Provides a range of feasible \\(d_1\\) values, offering insight into sensitivity. |\n",
      "\n",
      "### 5. Confidence score  \n",
      "**0.93** – the calculation hinges on standard diesel consumption figures that are widely used for vans, and the algebraic steps are trivial; only the real‑world variability in fuel economy introduces minor uncertainty.\n"
     ]
    }
   ],
   "source": [
    "# It's nice to know how to use \"zip\"\n",
    "for competitor, answer in zip(competitors, answers):\n",
    "    print(f\"Competitor: {competitor}\\n\\n{answer}\")\n"
   ]
  },
  {
   "cell_type": "code",
   "execution_count": 13,
   "metadata": {},
   "outputs": [],
   "source": [
    "# Let's bring this together - note the use of \"enumerate\"\n",
    "\n",
    "together = \"\"\n",
    "for index, answer in enumerate(answers):\n",
    "    together += f\"# Response from competitor {index+1}\\n\\n\"\n",
    "    together += answer + \"\\n\\n\""
   ]
  },
  {
   "cell_type": "code",
   "execution_count": 14,
   "metadata": {},
   "outputs": [
    {
     "name": "stdout",
     "output_type": "stream",
     "text": [
      "# Response from competitor 1\n",
      "\n",
      "Problem (self-contained):\n",
      "A small manufacturer must choose between two suppliers for a critical component needed within 7 days. Each supplier has a per-unit price and a probabilistic delivery time (lead time). You know only the following partial information:\n",
      "- Supplier A: price = $100; lead time L_A is approximately Normal with mean μ_A = 5 days and standard deviation σ_A = 1 day (lead times are nonnegative in reality; the normal distribution is a rough approximation). If the part arrives after day 7, a lateness penalty of $60 per day is charged.\n",
      "- Supplier B: price = $90; lead time L_B is approximately Normal with mean μ_B = 8 days and standard deviation σ_B = 2 days (also approximated as nonnegative). The same lateness penalty applies.\n",
      "Assume the lateness penalty is the only penalty cost beyond the upfront price, and that there are no other holding or urgent-supply costs.\n",
      "\n",
      "Question: Which supplier minimizes the expected total cost under this model? Provide the final answer and accompany it with the requested analyses below.\n",
      "\n",
      "(1) Final answer\n",
      "Choose Supplier A. Under the Normal-approximation lead-time model (with L_A ~ N(5,1^2) and L_B ~ N(8,2^2), truncated to be nonnegative for realism), the expected total costs are:\n",
      "- Supplier A: upfront $100 plus expected lateness cost ≈ $0.50, for a total ≈ $100.50.\n",
      "- Supplier B: upfront $90 plus expected lateness cost ≈ $83.74, for a total ≈ $173.74.\n",
      "Thus Supplier A has the lower expected total cost by a wide margin.\n",
      "\n",
      "(2) Concise justification (3–5 sentences)\n",
      "Using the given means and sds, compute the expected lateness beyond day 7 as E[(L − 7)+] for each supplier under the normal model: for A (μ=5, σ=1) this is about 0.0084 days, giving an expected lateness penalty ≈ $0.50; for B (μ=8, σ=2) this is about 1.396 days, giving a penalty ≈ $83.74. Adding the upfront prices yields total expected costs of about $100.50 for A and $173.74 for B. The sizable difference in expected lateness penalties dominates the $10 upfront price difference, making A the better choice under this model.\n",
      "\n",
      "(3) Critical appraisal of key assumptions and data limitations\n",
      "- The core calculation relies on treating lead times as Normal distributions with the given means and std devs, which is a rough approximation because real-world lead times are nonnegative and can be skewed.\n",
      "- We implicitly ignore any potential correlation between lead time and other costs, and we assume the lateness penalty is linear in days late with a fixed rate.\n",
      "- We assume no inventory, safety stock, or expedite options; in practice, suppliers may offer rush options or batching effects.\n",
      "- The model uses a single fixed deadline (7 days) and does not account for variability in demand or production schedules downstream.\n",
      "- Truncation to nonnegative lead times is small here but should be acknowledged; a more realistic model might use a nonnegative distribution (e.g., lognormal) which could slightly alter the numbers.\n",
      "\n",
      "(4) Comparison of at least two alternative solution approaches with their trade-offs\n",
      "- Approach 1: Parametric normal lead-time model (the approach used above)\n",
      "  - Pros: Simple to compute; yields closed-form expressions for E[(L−7)+] with standard normal functions; transparent assumptions.\n",
      "  - Cons: Relies on the (potentially imperfect) Normal assumption and may misestimate tails, especially for longer delays; ignores nonnegativity explicitly (though truncation makes this minor here).\n",
      "- Approach 2: Scenario-based Monte Carlo simulation (nonparametric or mixed distributions)\n",
      "  - Pros: Flexible; can incorporate skew, truncation, and alternative distributions (e.g., lognormal, empirical data); allows computing a distribution of total costs and confidence intervals.\n",
      "  - Cons: Requires choosing and calibrating multiple plausible distributions; more computational effort; results depend on the chosen scenarios and their weights.\n",
      "- Approach 3 (optional): Distribution-free bounds using only mean and variance (robust bound)\n",
      "  - Pros: Does not rely on distributional shape; provides worst-case guarantees given μ and σ.\n",
      "  - Cons: Typically yields very loose bounds for E[(L−7)+], may be too pessimistic to be actionable; not as informative for decision between two suppliers.\n",
      "\n",
      "(5) Self-rated confidence score and rationale\n",
      "Confidence: 0.65\n",
      "Rationale: The conclusion follows from a transparent calculation under a plausible parametric model, but the choice of Normal lead-time distributions is a simplification. Real-world lead times can be skewed and nonnegative, and penalties or delivery options in practice may deviate from the assumed linear, daily lateness cost. The result is informative and reasonable under the stated model, but it should be revisited if more detailed lead-time data or alternative cost structures become available.\n",
      "\n",
      "# Response from competitor 2\n",
      "\n",
      "**Problem (self‑contained)**  \n",
      "A delivery van is scheduled to travel from City X to City Z, passing through City Y.  \n",
      "* The van’s fuel tank can hold 200 L of diesel.  \n",
      "* While the vehicle is fully loaded (first 200 km of the trip) it consumes diesel at a rate of 0.10 L km⁻¹.  \n",
      "* After the first 200 km the load is halved (fuel consumption drops to 0.08 L km⁻¹ for the remainder of the journey).  \n",
      "* The distance from X to Y is exactly 500 km.  \n",
      "* The distance from Y to Z is unknown but is estimated to lie between 700 km and 900 km.  \n",
      "* The driver wants to arrive at City Z without refueling.  \n",
      "\n",
      "**Question**  \n",
      "What is the *maximum* possible distance from City Y to City Z that allows the van to reach Z without refueling, given the above partial information and assumptions?\n",
      "\n",
      "---\n",
      "\n",
      "### 1. Final answer  \n",
      "The van can reach City Z without refueling if the distance Y–Z is **up to 1 950 km**.\n",
      "\n",
      "### 2. Concise justification  \n",
      "Fuel used to reach Y is \\(200\\times0.10 + 300\\times0.08 = 44\\) L, leaving 156 L. With the lower consumption rate of 0.08 L km⁻¹, the remaining fuel allows an additional 1950 km, so Y–Z must be ≤1950 km.  \n",
      "\n",
      "### 3. Critical appraisal of assumptions and data limitations  \n",
      "- Assumes no variation in speed or driving conditions (e.g., traffic, terrain) that would affect fuel economy.  \n",
      "- Treats the load reduction as instantaneous at exactly 200 km, ignoring any gradual change or effect of residual load.  \n",
      "- Uses typical diesel consumption rates; real vans may differ, so the exact figure is approximate.  \n",
      "- The distance Y–Z estimate (700–900 km) is irrelevant once the calculation shows it must be ≤1950 km, so the partial information on Y–Z was unnecessary but kept for realism.  \n",
      "\n",
      "### 4. Comparison of alternative solution approaches  \n",
      "| Approach | Method | Trade‑offs |\n",
      "|----------|--------|------------|\n",
      "| **Piecewise fuel‑budget method (above)** | Direct calculation of fuel consumption in two segments; straightforward arithmetic. | Low computational complexity, no need for unknown variable \\(d_1\\). Accuracy depends on the chosen break‑point distance. |\n",
      "| **Optimization with variable break‑point** | Treat the 200 km break‑point as a variable \\(d_1\\) (unknown), set up inequality \\(0.10d_1 + 0.08(500‑d_1) \\leq 200\\). Solve for \\(d_1\\) then compute remaining distance. | More robust if the load change isn’t exactly at 200 km; requires solving a simple inequality but slightly more algebraic overhead. Provides a range of feasible \\(d_1\\) values, offering insight into sensitivity. |\n",
      "\n",
      "### 5. Confidence score  \n",
      "**0.93** – the calculation hinges on standard diesel consumption figures that are widely used for vans, and the algebraic steps are trivial; only the real‑world variability in fuel economy introduces minor uncertainty.\n",
      "\n",
      "\n"
     ]
    }
   ],
   "source": [
    "print(together)"
   ]
  },
  {
   "cell_type": "code",
   "execution_count": 15,
   "metadata": {},
   "outputs": [],
   "source": [
    "judge = f\"\"\"You are judging a competition between {len(competitors)} competitors.\n",
    "Each model has been given this question:\n",
    "\n",
    "{question}\n",
    "\n",
    "Your job is to evaluate each response for clarity and strength of argument, and rank them in order of best to worst.\n",
    "Respond with JSON, and only JSON, with the following format:\n",
    "{{\"results\": [\"best competitor number\", \"second best competitor number\", \"third best competitor number\", ...]}}\n",
    "\n",
    "Here are the responses from each competitor:\n",
    "\n",
    "{together}\n",
    "\n",
    "Now respond with the JSON with the ranked order of the competitors, nothing else. Do not include markdown formatting or code blocks.\"\"\"\n"
   ]
  },
  {
   "cell_type": "code",
   "execution_count": 16,
   "metadata": {},
   "outputs": [
    {
     "name": "stdout",
     "output_type": "stream",
     "text": [
      "You are judging a competition between 2 competitors.\n",
      "Each model has been given this question:\n",
      "\n",
      "Design and answer a self-contained problem that requires cross-domain reasoning (math, logic, and real-world knowledge) under partial information, and that also includes an evaluation of the reliability of the answer. Do not reveal your internal chain-of-thought. In your response, provide: (1) the final answer, (2) a concise justification (3–5 sentences, no step-by-step reasoning), (3) a critical appraisal of the key assumptions and data limitations, (4) a comparison of at least two alternative solution approaches with their trade-offs, and (5) a self-rated confidence score from 0 to 1 with a one-sentence rationale for that score.\n",
      "\n",
      "Your job is to evaluate each response for clarity and strength of argument, and rank them in order of best to worst.\n",
      "Respond with JSON, and only JSON, with the following format:\n",
      "{\"results\": [\"best competitor number\", \"second best competitor number\", \"third best competitor number\", ...]}\n",
      "\n",
      "Here are the responses from each competitor:\n",
      "\n",
      "# Response from competitor 1\n",
      "\n",
      "Problem (self-contained):\n",
      "A small manufacturer must choose between two suppliers for a critical component needed within 7 days. Each supplier has a per-unit price and a probabilistic delivery time (lead time). You know only the following partial information:\n",
      "- Supplier A: price = $100; lead time L_A is approximately Normal with mean μ_A = 5 days and standard deviation σ_A = 1 day (lead times are nonnegative in reality; the normal distribution is a rough approximation). If the part arrives after day 7, a lateness penalty of $60 per day is charged.\n",
      "- Supplier B: price = $90; lead time L_B is approximately Normal with mean μ_B = 8 days and standard deviation σ_B = 2 days (also approximated as nonnegative). The same lateness penalty applies.\n",
      "Assume the lateness penalty is the only penalty cost beyond the upfront price, and that there are no other holding or urgent-supply costs.\n",
      "\n",
      "Question: Which supplier minimizes the expected total cost under this model? Provide the final answer and accompany it with the requested analyses below.\n",
      "\n",
      "(1) Final answer\n",
      "Choose Supplier A. Under the Normal-approximation lead-time model (with L_A ~ N(5,1^2) and L_B ~ N(8,2^2), truncated to be nonnegative for realism), the expected total costs are:\n",
      "- Supplier A: upfront $100 plus expected lateness cost ≈ $0.50, for a total ≈ $100.50.\n",
      "- Supplier B: upfront $90 plus expected lateness cost ≈ $83.74, for a total ≈ $173.74.\n",
      "Thus Supplier A has the lower expected total cost by a wide margin.\n",
      "\n",
      "(2) Concise justification (3–5 sentences)\n",
      "Using the given means and sds, compute the expected lateness beyond day 7 as E[(L − 7)+] for each supplier under the normal model: for A (μ=5, σ=1) this is about 0.0084 days, giving an expected lateness penalty ≈ $0.50; for B (μ=8, σ=2) this is about 1.396 days, giving a penalty ≈ $83.74. Adding the upfront prices yields total expected costs of about $100.50 for A and $173.74 for B. The sizable difference in expected lateness penalties dominates the $10 upfront price difference, making A the better choice under this model.\n",
      "\n",
      "(3) Critical appraisal of key assumptions and data limitations\n",
      "- The core calculation relies on treating lead times as Normal distributions with the given means and std devs, which is a rough approximation because real-world lead times are nonnegative and can be skewed.\n",
      "- We implicitly ignore any potential correlation between lead time and other costs, and we assume the lateness penalty is linear in days late with a fixed rate.\n",
      "- We assume no inventory, safety stock, or expedite options; in practice, suppliers may offer rush options or batching effects.\n",
      "- The model uses a single fixed deadline (7 days) and does not account for variability in demand or production schedules downstream.\n",
      "- Truncation to nonnegative lead times is small here but should be acknowledged; a more realistic model might use a nonnegative distribution (e.g., lognormal) which could slightly alter the numbers.\n",
      "\n",
      "(4) Comparison of at least two alternative solution approaches with their trade-offs\n",
      "- Approach 1: Parametric normal lead-time model (the approach used above)\n",
      "  - Pros: Simple to compute; yields closed-form expressions for E[(L−7)+] with standard normal functions; transparent assumptions.\n",
      "  - Cons: Relies on the (potentially imperfect) Normal assumption and may misestimate tails, especially for longer delays; ignores nonnegativity explicitly (though truncation makes this minor here).\n",
      "- Approach 2: Scenario-based Monte Carlo simulation (nonparametric or mixed distributions)\n",
      "  - Pros: Flexible; can incorporate skew, truncation, and alternative distributions (e.g., lognormal, empirical data); allows computing a distribution of total costs and confidence intervals.\n",
      "  - Cons: Requires choosing and calibrating multiple plausible distributions; more computational effort; results depend on the chosen scenarios and their weights.\n",
      "- Approach 3 (optional): Distribution-free bounds using only mean and variance (robust bound)\n",
      "  - Pros: Does not rely on distributional shape; provides worst-case guarantees given μ and σ.\n",
      "  - Cons: Typically yields very loose bounds for E[(L−7)+], may be too pessimistic to be actionable; not as informative for decision between two suppliers.\n",
      "\n",
      "(5) Self-rated confidence score and rationale\n",
      "Confidence: 0.65\n",
      "Rationale: The conclusion follows from a transparent calculation under a plausible parametric model, but the choice of Normal lead-time distributions is a simplification. Real-world lead times can be skewed and nonnegative, and penalties or delivery options in practice may deviate from the assumed linear, daily lateness cost. The result is informative and reasonable under the stated model, but it should be revisited if more detailed lead-time data or alternative cost structures become available.\n",
      "\n",
      "# Response from competitor 2\n",
      "\n",
      "**Problem (self‑contained)**  \n",
      "A delivery van is scheduled to travel from City X to City Z, passing through City Y.  \n",
      "* The van’s fuel tank can hold 200 L of diesel.  \n",
      "* While the vehicle is fully loaded (first 200 km of the trip) it consumes diesel at a rate of 0.10 L km⁻¹.  \n",
      "* After the first 200 km the load is halved (fuel consumption drops to 0.08 L km⁻¹ for the remainder of the journey).  \n",
      "* The distance from X to Y is exactly 500 km.  \n",
      "* The distance from Y to Z is unknown but is estimated to lie between 700 km and 900 km.  \n",
      "* The driver wants to arrive at City Z without refueling.  \n",
      "\n",
      "**Question**  \n",
      "What is the *maximum* possible distance from City Y to City Z that allows the van to reach Z without refueling, given the above partial information and assumptions?\n",
      "\n",
      "---\n",
      "\n",
      "### 1. Final answer  \n",
      "The van can reach City Z without refueling if the distance Y–Z is **up to 1 950 km**.\n",
      "\n",
      "### 2. Concise justification  \n",
      "Fuel used to reach Y is \\(200\\times0.10 + 300\\times0.08 = 44\\) L, leaving 156 L. With the lower consumption rate of 0.08 L km⁻¹, the remaining fuel allows an additional 1950 km, so Y–Z must be ≤1950 km.  \n",
      "\n",
      "### 3. Critical appraisal of assumptions and data limitations  \n",
      "- Assumes no variation in speed or driving conditions (e.g., traffic, terrain) that would affect fuel economy.  \n",
      "- Treats the load reduction as instantaneous at exactly 200 km, ignoring any gradual change or effect of residual load.  \n",
      "- Uses typical diesel consumption rates; real vans may differ, so the exact figure is approximate.  \n",
      "- The distance Y–Z estimate (700–900 km) is irrelevant once the calculation shows it must be ≤1950 km, so the partial information on Y–Z was unnecessary but kept for realism.  \n",
      "\n",
      "### 4. Comparison of alternative solution approaches  \n",
      "| Approach | Method | Trade‑offs |\n",
      "|----------|--------|------------|\n",
      "| **Piecewise fuel‑budget method (above)** | Direct calculation of fuel consumption in two segments; straightforward arithmetic. | Low computational complexity, no need for unknown variable \\(d_1\\). Accuracy depends on the chosen break‑point distance. |\n",
      "| **Optimization with variable break‑point** | Treat the 200 km break‑point as a variable \\(d_1\\) (unknown), set up inequality \\(0.10d_1 + 0.08(500‑d_1) \\leq 200\\). Solve for \\(d_1\\) then compute remaining distance. | More robust if the load change isn’t exactly at 200 km; requires solving a simple inequality but slightly more algebraic overhead. Provides a range of feasible \\(d_1\\) values, offering insight into sensitivity. |\n",
      "\n",
      "### 5. Confidence score  \n",
      "**0.93** – the calculation hinges on standard diesel consumption figures that are widely used for vans, and the algebraic steps are trivial; only the real‑world variability in fuel economy introduces minor uncertainty.\n",
      "\n",
      "\n",
      "\n",
      "Now respond with the JSON with the ranked order of the competitors, nothing else. Do not include markdown formatting or code blocks.\n"
     ]
    }
   ],
   "source": [
    "print(judge)"
   ]
  },
  {
   "cell_type": "code",
   "execution_count": 17,
   "metadata": {},
   "outputs": [],
   "source": [
    "judge_messages = [{\"role\": \"user\", \"content\": judge}]"
   ]
  },
  {
   "cell_type": "code",
   "execution_count": 18,
   "metadata": {},
   "outputs": [
    {
     "name": "stdout",
     "output_type": "stream",
     "text": [
      "{\"results\": [\"2\", \"1\"]}\n"
     ]
    }
   ],
   "source": [
    "# Judgement time!\n",
    "\n",
    "openai = OpenAI()\n",
    "response = openai.chat.completions.create(\n",
    "    model=\"o3-mini\",\n",
    "    # model=\"gpt-5\",\n",
    "    messages=judge_messages,\n",
    ")\n",
    "results = response.choices[0].message.content\n",
    "print(results)\n"
   ]
  },
  {
   "cell_type": "code",
   "execution_count": 19,
   "metadata": {},
   "outputs": [
    {
     "name": "stdout",
     "output_type": "stream",
     "text": [
      "Rank 1: gpt-oss:20b\n",
      "Rank 2: gpt-5-nano\n"
     ]
    }
   ],
   "source": [
    "# OK let's turn this into results!\n",
    "\n",
    "results_dict = json.loads(results)\n",
    "ranks = results_dict[\"results\"]\n",
    "for index, result in enumerate(ranks):\n",
    "    competitor = competitors[int(result)-1]\n",
    "    print(f\"Rank {index+1}: {competitor}\")"
   ]
  },
  {
   "cell_type": "markdown",
   "metadata": {},
   "source": [
    "<table style=\"margin: 0; text-align: left; width:100%\">\n",
    "    <tr>\n",
    "        <td style=\"width: 150px; height: 150px; vertical-align: middle;\">\n",
    "            <img src=\"../assets/exercise.png\" width=\"150\" height=\"150\" style=\"display: block;\" />\n",
    "        </td>\n",
    "        <td>\n",
    "            <h2 style=\"color:#ff7800;\">Exercise</h2>\n",
    "            <span style=\"color:#ff7800;\">Which pattern(s) did this use? Try updating this to add another Agentic design pattern.\n",
    "            </span>\n",
    "        </td>\n",
    "    </tr>\n",
    "</table>"
   ]
  },
  {
   "cell_type": "markdown",
   "metadata": {},
   "source": [
    "<table style=\"margin: 0; text-align: left; width:100%\">\n",
    "    <tr>\n",
    "        <td style=\"width: 150px; height: 150px; vertical-align: middle;\">\n",
    "            <img src=\"../assets/business.png\" width=\"150\" height=\"150\" style=\"display: block;\" />\n",
    "        </td>\n",
    "        <td>\n",
    "            <h2 style=\"color:#00bfff;\">Commercial implications</h2>\n",
    "            <span style=\"color:#00bfff;\">These kinds of patterns - to send a task to multiple models, and evaluate results,\n",
    "            are common where you need to improve the quality of your LLM response. This approach can be universally applied\n",
    "            to business projects where accuracy is critical.\n",
    "            </span>\n",
    "        </td>\n",
    "    </tr>\n",
    "</table>"
   ]
  }
 ],
 "metadata": {
  "kernelspec": {
   "display_name": ".venv",
   "language": "python",
   "name": "python3"
  },
  "language_info": {
   "codemirror_mode": {
    "name": "ipython",
    "version": 3
   },
   "file_extension": ".py",
   "mimetype": "text/x-python",
   "name": "python",
   "nbconvert_exporter": "python",
   "pygments_lexer": "ipython3",
   "version": "3.12.10"
  }
 },
 "nbformat": 4,
 "nbformat_minor": 2
}
